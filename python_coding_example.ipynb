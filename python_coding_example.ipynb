{
 "cells": [
  {
   "cell_type": "markdown",
   "id": "8457752b",
   "metadata": {},
   "source": [
    "# k-means clustering implemented in python"
   ]
  },
  {
   "cell_type": "markdown",
   "id": "02745677",
   "metadata": {},
   "source": [
    "### initial setup and testing"
   ]
  },
  {
   "cell_type": "code",
   "execution_count": 197,
   "id": "cd1bb9fa",
   "metadata": {},
   "outputs": [],
   "source": [
    "## load basic libraries\n",
    "\n",
    "import numpy as np ## data processing \n",
    "from scipy.spatial.distance import cdist ## distance calculations"
   ]
  },
  {
   "cell_type": "code",
   "execution_count": 198,
   "id": "427ce934",
   "metadata": {
    "scrolled": true
   },
   "outputs": [
    {
     "data": {
      "text/plain": [
       "array([[ 0.,  0.,  5., ...,  0.,  0.,  0.],\n",
       "       [ 0.,  0.,  0., ..., 10.,  0.,  0.],\n",
       "       [ 0.,  0.,  0., ..., 16.,  9.,  0.],\n",
       "       ...,\n",
       "       [ 0.,  0.,  1., ...,  6.,  0.,  0.],\n",
       "       [ 0.,  0.,  2., ..., 12.,  0.,  0.],\n",
       "       [ 0.,  0., 10., ..., 12.,  1.,  0.]])"
      ]
     },
     "execution_count": 198,
     "metadata": {},
     "output_type": "execute_result"
    }
   ],
   "source": [
    "## get data to cluster; something off the shelf\n",
    "# libraries\n",
    "from sklearn.datasets import load_digits\n",
    "#operations\n",
    "data = load_digits().data\n",
    "data"
   ]
  },
  {
   "cell_type": "code",
   "execution_count": 199,
   "id": "25762a1f",
   "metadata": {
    "scrolled": false
   },
   "outputs": [
    {
     "data": {
      "text/plain": [
       "array([[ -1.25946709,  21.27489027],\n",
       "       [  7.95761333, -20.76869845],\n",
       "       [  6.99192281,  -9.95599461],\n",
       "       ...,\n",
       "       [ 10.8012812 ,  -6.96024742],\n",
       "       [ -4.87209507,  12.42393988],\n",
       "       [ -0.34439315,   6.36555168]])"
      ]
     },
     "execution_count": 199,
     "metadata": {},
     "output_type": "execute_result"
    }
   ],
   "source": [
    "## prompt called for binomial clusters../\n",
    "## here, we'll use multinomial data and apply PCA\n",
    "# libraries\n",
    "from sklearn.decomposition import PCA\n",
    "# operation\n",
    "pca = PCA(n_components = 2)\n",
    "data2 = pca.fit_transform(data)\n",
    "data2"
   ]
  },
  {
   "cell_type": "code",
   "execution_count": 200,
   "id": "4884af70",
   "metadata": {},
   "outputs": [],
   "source": [
    "## looks good"
   ]
  },
  {
   "cell_type": "code",
   "execution_count": 229,
   "id": "04f4d018",
   "metadata": {},
   "outputs": [],
   "source": [
    "## initial setup for k-means\n",
    "m = data2.shape[0] ## number of samples for training\n",
    "n = data2.shape[1] ## number of features, here = 2 dt application of PCA\n",
    "K = 5 ## number of clusters; initially chosen manually\n",
    "n_iter = 100 ## number of iterations assumed for convergence"
   ]
  },
  {
   "cell_type": "code",
   "execution_count": 230,
   "id": "2517baba",
   "metadata": {},
   "outputs": [],
   "source": [
    "## k-means begins with a set of K randomly initiated centroids\n",
    "## centroids represent the mean value point for each K cluster\n",
    "## k-means interatively reassigns centroid class to minimize ...\n",
    "## ... (for example) total euclidean distance, points <-> centroids"
   ]
  },
  {
   "cell_type": "code",
   "execution_count": 231,
   "id": "be89f803",
   "metadata": {},
   "outputs": [],
   "source": [
    "## First, we randomly initialize centroids\n",
    "idx = np.random.choice(m, K, replace=False) ## randomized index\n",
    "centroids = data2[idx, :] ## create centroid assignment from index\n"
   ]
  },
  {
   "cell_type": "code",
   "execution_count": 232,
   "id": "4452ae4d",
   "metadata": {},
   "outputs": [],
   "source": [
    "## Next, we find the distances between centroids and data points\n",
    "## Here, we are choosign euclidean distance for simplicity\n",
    "# libraries\n",
    "from scipy.spatial.distance import cdist \n",
    "# operation\n",
    "distances = cdist(data2, centroids ,'euclidean') ## cdist euclident\n"
   ]
  },
  {
   "cell_type": "code",
   "execution_count": 233,
   "id": "f8e98229",
   "metadata": {},
   "outputs": [],
   "source": [
    "## Then, data points assigned to centroids (clusters) with min distance\n",
    "cluster = np.array([np.argmin(i) for i in distances])\n"
   ]
  },
  {
   "cell_type": "code",
   "execution_count": 234,
   "id": "33f69bed",
   "metadata": {},
   "outputs": [
    {
     "data": {
      "text/plain": [
       "array([2, 1, 1, ..., 1, 2, 3])"
      ]
     },
     "execution_count": 234,
     "metadata": {},
     "output_type": "execute_result"
    }
   ],
   "source": [
    "## Finally, exhaustively interate distance calculation & reassignment\n",
    "\n",
    "for _ in range(n_iter):   ## iteration value unused\n",
    "    centroids = [] ## initialize empty centroid list\n",
    "    for idx in range(K):\n",
    "        ## take means for each centroid\n",
    "        temp_cent = data2[points==idx].mean(axis=0)\n",
    "        ## update centroids with new values\n",
    "        centroids.append(temp_cent)\n",
    "        \n",
    "    ## apply updated centroids\n",
    "    centroids = np.vstack(centroids)\n",
    "    \n",
    "    ## calculate distances betweend ata points and nearest centroids\n",
    "    distances = cdist(data2, centroids ,'euclidean')\n",
    "    \n",
    "    ## assign data points to nearest centroids\n",
    "    cluster = np.array([np.argmin(i) for i in distances]) \n",
    "\n",
    "cluster \n",
    "\n",
    "\n"
   ]
  },
  {
   "cell_type": "code",
   "execution_count": 208,
   "id": "594518d7",
   "metadata": {},
   "outputs": [],
   "source": [
    "## looks good"
   ]
  },
  {
   "cell_type": "markdown",
   "id": "349d806c",
   "metadata": {},
   "source": [
    "### k-means function"
   ]
  },
  {
   "cell_type": "code",
   "execution_count": 217,
   "id": "a6691dac",
   "metadata": {},
   "outputs": [],
   "source": [
    "## Now, we implement as function\n",
    "# libraries\n",
    "import numpy as np\n",
    "from scipy.spatial.distance import cdist \n",
    "\n",
    "\n",
    "# definition\n",
    "def kmeans(X,K,n_iter):\n",
    "    idx = np.random.choice(m, K, replace=False) ## randomized index\n",
    "    centroids = data2[idx, :] ## create centroid assignment from index\n",
    "    distances = cdist(data2, centroids ,'euclidean') ## cdist euclident\n",
    "    cluster = np.array([np.argmin(i) for i in distances]) ## assignments\n",
    "    \n",
    "    for _ in range(n_iter):   ## iteration value unused\n",
    "        centroids = [] ## initialize empty centroid list\n",
    "        for idx in range(k):\n",
    "            ## take means for each centroid\n",
    "            temp_cent = data2[points==idx].mean(axis=0)\n",
    "            ## update centroids with new values\n",
    "            centroids.append(temp_cent)\n",
    "        \n",
    "        ## apply updated centroids\n",
    "        centroids = np.vstack(centroids)\n",
    "\n",
    "        ## calculate distances betweend ata points and nearest centroids\n",
    "        distances = cdist(data2, centroids ,'euclidean')\n",
    "\n",
    "        ## assign data points to nearest centroids\n",
    "        cluster = np.array([np.argmin(i) for i in distances]) \n",
    "\n",
    "    return cluster "
   ]
  },
  {
   "cell_type": "markdown",
   "id": "06e7ff86",
   "metadata": {},
   "source": [
    "### k-means test with visualization"
   ]
  },
  {
   "cell_type": "code",
   "execution_count": 225,
   "id": "40c6c4b0",
   "metadata": {
    "scrolled": true
   },
   "outputs": [
    {
     "data": {
      "text/plain": [
       "array([2, 1, 1, ..., 1, 2, 3])"
      ]
     },
     "execution_count": 225,
     "metadata": {},
     "output_type": "execute_result"
    }
   ],
   "source": [
    "## test\n",
    "label = kmeans(data2,2,1000)\n",
    "label"
   ]
  },
  {
   "cell_type": "code",
   "execution_count": 211,
   "id": "0447affa",
   "metadata": {},
   "outputs": [],
   "source": [
    "## looks good..."
   ]
  },
  {
   "cell_type": "markdown",
   "id": "c0ba7aa0",
   "metadata": {},
   "source": [
    "#### visualization"
   ]
  },
  {
   "cell_type": "code",
   "execution_count": 226,
   "id": "bbd22ee2",
   "metadata": {
    "scrolled": true
   },
   "outputs": [
    {
     "data": {
      "image/png": "[encoded data removed]",
      "text/plain": [
       "<Figure size 432x288 with 1 Axes>"
      ]
     },
     "metadata": {
      "needs_background": "light"
     },
     "output_type": "display_data"
    }
   ],
   "source": [
    "## visualization via standard scatter plot\n",
    "# libraries\n",
    "import matplotlib.pyplot as plt\n",
    "\n",
    "#operation\n",
    "labels = np.unique(label) ## generate unique cluster id \n",
    "for i in cluster_ids: ## iteratively assign labels\n",
    "    plt.scatter(data2[label == i , 0] , data2[label == i , 1] , label = i) \n",
    "plt.legend()\n",
    "plt.show()"
   ]
  }
 ],
 "metadata": {
  "kernelspec": {
   "display_name": "Python 3 (ipykernel)",
   "language": "python",
   "name": "python3"
  },
  "language_info": {
   "codemirror_mode": {
    "name": "ipython",
    "version": 3
   },
   "file_extension": ".py",
   "mimetype": "text/x-python",
   "name": "python",
   "nbconvert_exporter": "python",
   "pygments_lexer": "ipython3",
   "version": "3.9.7"
  }
 },
 "nbformat": 4,
 "nbformat_minor": 5
}
